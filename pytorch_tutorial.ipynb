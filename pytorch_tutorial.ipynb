{
 "cells": [
  {
   "cell_type": "markdown",
   "metadata": {},
   "source": [
    "# PyTorch tutorial\n",
    "Creating a neural network that classifies clothes."
   ]
  },
  {
   "cell_type": "markdown",
   "metadata": {},
   "source": [
    "## Import necessary packages"
   ]
  },
  {
   "cell_type": "code",
   "execution_count": 1,
   "metadata": {},
   "outputs": [],
   "source": [
    "import torch\n",
    "from torch import nn\n",
    "from torch.utils.data import DataLoader\n",
    "from torchvision import datasets\n",
    "from torchvision.transforms import ToTensor\n",
    "import matplotlib.pyplot as plt"
   ]
  },
  {
   "cell_type": "markdown",
   "metadata": {},
   "source": [
    "## Choose device\n",
    "Choosing device to create and do tensor operations on.\n",
    "\n",
    "Note: As I am using a MacBook with Apple Silicon (M1), I could use MPS by running `device = torch.device(\"mps\")`. However, I wasn't able to do that without getting an error."
   ]
  },
  {
   "cell_type": "code",
   "execution_count": 2,
   "metadata": {},
   "outputs": [
    {
     "name": "stdout",
     "output_type": "stream",
     "text": [
      "Using cpu device\n"
     ]
    }
   ],
   "source": [
    "device = torch.device(\"cpu\")\n",
    "\n",
    "print(\"Using {} device\".format(device))"
   ]
  },
  {
   "cell_type": "markdown",
   "metadata": {},
   "source": [
    "## Loading in training and test data"
   ]
  },
  {
   "cell_type": "code",
   "execution_count": 3,
   "metadata": {},
   "outputs": [],
   "source": [
    "training_data = datasets.FashionMNIST(root=\"data\", train=True, download=True, transform=ToTensor())\n",
    "test_data = datasets.FashionMNIST(root=\"data\", train=False, download=True, transform=ToTensor())\n",
    "\n",
    "train_dataloader = DataLoader(training_data, batch_size=64)\n",
    "test_dataloader = DataLoader(test_data, batch_size=64)"
   ]
  },
  {
   "cell_type": "markdown",
   "metadata": {},
   "source": [
    "## Creating the neural network"
   ]
  },
  {
   "cell_type": "code",
   "execution_count": 4,
   "metadata": {},
   "outputs": [],
   "source": [
    "class NeuralNetwork(nn.Module):\n",
    "\n",
    "    def __init__(self):\n",
    "        super().__init__()\n",
    "        self.flatten = nn.Flatten()\n",
    "        self.linear_relu_stack = nn.Sequential(\n",
    "            nn.Linear(28*28, 512),\n",
    "            nn.ReLU(),\n",
    "            nn.Linear(512, 512),\n",
    "            nn.ReLU(),\n",
    "            nn.Linear(512, 10)\n",
    "        )\n",
    "    \n",
    "    def forward(self, x):\n",
    "        x = self.flatten(x)\n",
    "        logits = self.linear_relu_stack(x)\n",
    "        return logits"
   ]
  },
  {
   "cell_type": "markdown",
   "metadata": {},
   "source": [
    "Move the neural network to the chosen device (CPU) so that it runs on it."
   ]
  },
  {
   "cell_type": "code",
   "execution_count": 5,
   "metadata": {},
   "outputs": [
    {
     "name": "stdout",
     "output_type": "stream",
     "text": [
      "NeuralNetwork(\n",
      "  (flatten): Flatten(start_dim=1, end_dim=-1)\n",
      "  (linear_relu_stack): Sequential(\n",
      "    (0): Linear(in_features=784, out_features=512, bias=True)\n",
      "    (1): ReLU()\n",
      "    (2): Linear(in_features=512, out_features=512, bias=True)\n",
      "    (3): ReLU()\n",
      "    (4): Linear(in_features=512, out_features=10, bias=True)\n",
      "  )\n",
      ")\n"
     ]
    }
   ],
   "source": [
    "model = NeuralNetwork().to(device)\n",
    "print(model)"
   ]
  },
  {
   "cell_type": "markdown",
   "metadata": {},
   "source": [
    "## Define hyperparameters, loss function and optimizer"
   ]
  },
  {
   "cell_type": "code",
   "execution_count": 6,
   "metadata": {},
   "outputs": [],
   "source": [
    "# Hyperparameters\n",
    "learning_rate = 1e-3\n",
    "batch_size = 64\n",
    "epochs = 10\n",
    "\n",
    "# Loss function\n",
    "loss_fn = nn.CrossEntropyLoss()\n",
    "\n",
    "# Optimizer (Stochastic Gradient Descent)\n",
    "optimizer = torch.optim.SGD(model.parameters(), lr=learning_rate)"
   ]
  },
  {
   "cell_type": "markdown",
   "metadata": {},
   "source": [
    "## Defining training and test loops"
   ]
  },
  {
   "cell_type": "code",
   "execution_count": 7,
   "metadata": {},
   "outputs": [],
   "source": [
    "def train_loop(dataloader, model, loss_fn, optimizer):\n",
    "    size = len(dataloader.dataset)\n",
    "    model.train()\n",
    "\n",
    "    for batch, (X, y) in enumerate(dataloader):\n",
    "\n",
    "        # Forward pass\n",
    "        pred = model(X)\n",
    "\n",
    "        # Calculate loss\n",
    "        loss = loss_fn(pred, y)\n",
    "\n",
    "        # Backpropagation\n",
    "        loss.backward()\n",
    "        optimizer.step()\n",
    "        optimizer.zero_grad()\n",
    "\n",
    "        if batch % 100 == 0:\n",
    "            loss, current = loss.item(), batch * batch_size + len(X)\n",
    "            print(f\"loss: {loss:>7f}  [{current:>5d}/{size:>5d}]\")\n",
    "    \n",
    "def test_loop(dataloader, model, loss_fn):\n",
    "    model.eval()\n",
    "    size = len(dataloader.dataset)\n",
    "    num_batches = len(dataloader)\n",
    "    test_loss, correct = 0, 0\n",
    "\n",
    "    # Turning off computation of gradients to save time and resources\n",
    "    with torch.no_grad():\n",
    "        for X, y in dataloader:\n",
    "            pred = model(X)\n",
    "            test_loss += loss_fn(pred, y).item()\n",
    "            correct += (pred.argmax(1) == y).type(torch.float).sum().item()\n",
    "        \n",
    "    test_loss /= num_batches\n",
    "    correct /= size\n",
    "    print(f\"Test Error: \\n Accuracy: {(100*correct):>0.1f}%, Avg loss: {test_loss:>8f} \\n\")"
   ]
  },
  {
   "cell_type": "markdown",
   "metadata": {},
   "source": [
    "## Training the neural network"
   ]
  },
  {
   "cell_type": "code",
   "execution_count": 8,
   "metadata": {},
   "outputs": [
    {
     "name": "stdout",
     "output_type": "stream",
     "text": [
      "Epoch 1\n",
      "-------------------------------\n",
      "loss: 2.309688  [   64/60000]\n",
      "loss: 2.297307  [ 6464/60000]\n",
      "loss: 2.275357  [12864/60000]\n",
      "loss: 2.268315  [19264/60000]\n",
      "loss: 2.255909  [25664/60000]\n",
      "loss: 2.223030  [32064/60000]\n",
      "loss: 2.227890  [38464/60000]\n",
      "loss: 2.191206  [44864/60000]\n",
      "loss: 2.190244  [51264/60000]\n",
      "loss: 2.171085  [57664/60000]\n",
      "Test Error: \n",
      " Accuracy: 43.2%, Avg loss: 2.158297 \n",
      "\n",
      "Epoch 2\n",
      "-------------------------------\n",
      "loss: 2.166908  [   64/60000]\n",
      "loss: 2.154979  [ 6464/60000]\n",
      "loss: 2.097145  [12864/60000]\n",
      "loss: 2.122173  [19264/60000]\n",
      "loss: 2.065628  [25664/60000]\n",
      "loss: 2.008320  [32064/60000]\n",
      "loss: 2.035943  [38464/60000]\n",
      "loss: 1.950788  [44864/60000]\n",
      "loss: 1.963790  [51264/60000]\n",
      "loss: 1.910126  [57664/60000]\n",
      "Test Error: \n",
      " Accuracy: 53.5%, Avg loss: 1.893913 \n",
      "\n",
      "Epoch 3\n",
      "-------------------------------\n",
      "loss: 1.920587  [   64/60000]\n",
      "loss: 1.893254  [ 6464/60000]\n",
      "loss: 1.772014  [12864/60000]\n",
      "loss: 1.831459  [19264/60000]\n",
      "loss: 1.707569  [25664/60000]\n",
      "loss: 1.661944  [32064/60000]\n",
      "loss: 1.689623  [38464/60000]\n",
      "loss: 1.578251  [44864/60000]\n",
      "loss: 1.615614  [51264/60000]\n",
      "loss: 1.525214  [57664/60000]\n",
      "Test Error: \n",
      " Accuracy: 60.5%, Avg loss: 1.525798 \n",
      "\n",
      "Epoch 4\n",
      "-------------------------------\n",
      "loss: 1.590539  [   64/60000]\n",
      "loss: 1.556462  [ 6464/60000]\n",
      "loss: 1.398944  [12864/60000]\n",
      "loss: 1.489811  [19264/60000]\n",
      "loss: 1.360738  [25664/60000]\n",
      "loss: 1.359753  [32064/60000]\n",
      "loss: 1.377574  [38464/60000]\n",
      "loss: 1.289699  [44864/60000]\n",
      "loss: 1.336195  [51264/60000]\n",
      "loss: 1.246718  [57664/60000]\n",
      "Test Error: \n",
      " Accuracy: 63.3%, Avg loss: 1.257570 \n",
      "\n",
      "Epoch 5\n",
      "-------------------------------\n",
      "loss: 1.341626  [   64/60000]\n",
      "loss: 1.317515  [ 6464/60000]\n",
      "loss: 1.146661  [12864/60000]\n",
      "loss: 1.264948  [19264/60000]\n",
      "loss: 1.137851  [25664/60000]\n",
      "loss: 1.166304  [32064/60000]\n",
      "loss: 1.187148  [38464/60000]\n",
      "loss: 1.112259  [44864/60000]\n",
      "loss: 1.160876  [51264/60000]\n",
      "loss: 1.086961  [57664/60000]\n",
      "Test Error: \n",
      " Accuracy: 65.2%, Avg loss: 1.091610 \n",
      "\n",
      "Epoch 6\n",
      "-------------------------------\n",
      "loss: 1.173736  [   64/60000]\n",
      "loss: 1.167704  [ 6464/60000]\n",
      "loss: 0.981851  [12864/60000]\n",
      "loss: 1.124820  [19264/60000]\n",
      "loss: 0.998342  [25664/60000]\n",
      "loss: 1.035362  [32064/60000]\n",
      "loss: 1.067977  [38464/60000]\n",
      "loss: 0.998347  [44864/60000]\n",
      "loss: 1.046051  [51264/60000]\n",
      "loss: 0.987049  [57664/60000]\n",
      "Test Error: \n",
      " Accuracy: 66.7%, Avg loss: 0.983373 \n",
      "\n",
      "Epoch 7\n",
      "-------------------------------\n",
      "loss: 1.055229  [   64/60000]\n",
      "loss: 1.069790  [ 6464/60000]\n",
      "loss: 0.868490  [12864/60000]\n",
      "loss: 1.030615  [19264/60000]\n",
      "loss: 0.908184  [25664/60000]\n",
      "loss: 0.941138  [32064/60000]\n",
      "loss: 0.988035  [38464/60000]\n",
      "loss: 0.922482  [44864/60000]\n",
      "loss: 0.965056  [51264/60000]\n",
      "loss: 0.919679  [57664/60000]\n",
      "Test Error: \n",
      " Accuracy: 68.2%, Avg loss: 0.908145 \n",
      "\n",
      "Epoch 8\n",
      "-------------------------------\n",
      "loss: 0.966625  [   64/60000]\n",
      "loss: 1.000716  [ 6464/60000]\n",
      "loss: 0.785900  [12864/60000]\n",
      "loss: 0.963131  [19264/60000]\n",
      "loss: 0.846549  [25664/60000]\n",
      "loss: 0.870307  [32064/60000]\n",
      "loss: 0.930824  [38464/60000]\n",
      "loss: 0.870691  [44864/60000]\n",
      "loss: 0.905437  [51264/60000]\n",
      "loss: 0.870684  [57664/60000]\n",
      "Test Error: \n",
      " Accuracy: 69.6%, Avg loss: 0.853002 \n",
      "\n",
      "Epoch 9\n",
      "-------------------------------\n",
      "loss: 0.898043  [   64/60000]\n",
      "loss: 0.948459  [ 6464/60000]\n",
      "loss: 0.723068  [12864/60000]\n",
      "loss: 0.912586  [19264/60000]\n",
      "loss: 0.801878  [25664/60000]\n",
      "loss: 0.815527  [32064/60000]\n",
      "loss: 0.887190  [38464/60000]\n",
      "loss: 0.833818  [44864/60000]\n",
      "loss: 0.860586  [51264/60000]\n",
      "loss: 0.833010  [57664/60000]\n",
      "Test Error: \n",
      " Accuracy: 70.9%, Avg loss: 0.810955 \n",
      "\n",
      "Epoch 10\n",
      "-------------------------------\n",
      "loss: 0.843258  [   64/60000]\n",
      "loss: 0.906553  [ 6464/60000]\n",
      "loss: 0.673903  [12864/60000]\n",
      "loss: 0.873677  [19264/60000]\n",
      "loss: 0.767899  [25664/60000]\n",
      "loss: 0.772962  [32064/60000]\n",
      "loss: 0.852171  [38464/60000]\n",
      "loss: 0.806649  [44864/60000]\n",
      "loss: 0.825965  [51264/60000]\n",
      "loss: 0.802917  [57664/60000]\n",
      "Test Error: \n",
      " Accuracy: 72.0%, Avg loss: 0.777694 \n",
      "\n",
      "Done!\n"
     ]
    }
   ],
   "source": [
    "for t in range(epochs):\n",
    "    print(f\"Epoch {t+1}\\n-------------------------------\")\n",
    "    train_loop(train_dataloader, model, loss_fn, optimizer)\n",
    "    test_loop(train_dataloader, model, loss_fn)\n",
    "\n",
    "print(\"Done!\")"
   ]
  },
  {
   "cell_type": "markdown",
   "metadata": {},
   "source": [
    "## Making some predictions with the trained network"
   ]
  },
  {
   "cell_type": "code",
   "execution_count": 9,
   "metadata": {},
   "outputs": [
    {
     "data": {
      "image/png": "[encoded data removed]",
      "text/plain": [
       "<Figure size 800x800 with 9 Axes>"
      ]
     },
     "metadata": {},
     "output_type": "display_data"
    }
   ],
   "source": [
    "model.eval()\n",
    "\n",
    "figure = plt.figure(figsize=(8, 8))\n",
    "cols, rows = 3, 3\n",
    "for i in range(1, cols * rows + 1):\n",
    "    sample_idx = torch.randint(len(test_dataloader.dataset), size=(1,)).item()\n",
    "    img, label = training_data[sample_idx]\n",
    "    \n",
    "    with torch.no_grad():\n",
    "        pred = model(img)\n",
    "        pred_class = pred.argmax(1).item()\n",
    "    \n",
    "    figure.add_subplot(rows, cols, i)\n",
    "\n",
    "    plt.title(f\"Pred: {pred_class}, Actual: {label}\")\n",
    "    plt.axis(\"off\")\n",
    "    plt.imshow(img.squeeze())\n",
    "plt.show()"
   ]
  }
 ],
 "metadata": {
  "kernelspec": {
   "display_name": "venv",
   "language": "python",
   "name": "python3"
  },
  "language_info": {
   "codemirror_mode": {
    "name": "ipython",
    "version": 3
   },
   "file_extension": ".py",
   "mimetype": "text/x-python",
   "name": "python",
   "nbconvert_exporter": "python",
   "pygments_lexer": "ipython3",
   "version": "3.12.3"
  }
 },
 "nbformat": 4,
 "nbformat_minor": 2
}
